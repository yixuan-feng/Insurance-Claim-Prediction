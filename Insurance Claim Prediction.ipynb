{
 "cells": [
  {
   "cell_type": "code",
   "execution_count": 61,
   "id": "b56a9976",
   "metadata": {},
   "outputs": [],
   "source": [
    "\n",
    "import numpy as np # linear algebra\n",
    "import pandas as pd # data processing, CSV file I/O (e.g. pd.read_csv)\n",
    "import matplotlib\n",
    "from matplotlib import pyplot as plt\n",
    "%matplotlib inline\n",
    "\n",
    "import seaborn as sns\n",
    "from scipy.stats import norm\n",
    "matplotlib.rcParams['figure.figsize'] = (10,6)\n",
    "from collections import Counter\n",
    "from imblearn.over_sampling import SMOTE\n",
    "\n",
    "from sklearn.preprocessing import StandardScaler\n",
    "from sklearn.model_selection import train_test_split"
   ]
  },
  {
   "cell_type": "code",
   "execution_count": 27,
   "id": "59453fbf",
   "metadata": {},
   "outputs": [],
   "source": []
  },
  {
   "cell_type": "code",
   "execution_count": null,
   "id": "4b6988a3",
   "metadata": {},
   "outputs": [],
   "source": [
    "dataset=pd.read_csv(\"insurance2.csv\")"
   ]
  },
  {
   "cell_type": "markdown",
   "id": "96b4bdc6",
   "metadata": {},
   "source": [
    "# Exploratory Data Analysis"
   ]
  },
  {
   "cell_type": "code",
   "execution_count": 2,
   "id": "dc59d6a1",
   "metadata": {},
   "outputs": [
    {
     "data": {
      "text/html": [
       "<div>\n",
       "<style scoped>\n",
       "    .dataframe tbody tr th:only-of-type {\n",
       "        vertical-align: middle;\n",
       "    }\n",
       "\n",
       "    .dataframe tbody tr th {\n",
       "        vertical-align: top;\n",
       "    }\n",
       "\n",
       "    .dataframe thead th {\n",
       "        text-align: right;\n",
       "    }\n",
       "</style>\n",
       "<table border=\"1\" class=\"dataframe\">\n",
       "  <thead>\n",
       "    <tr style=\"text-align: right;\">\n",
       "      <th></th>\n",
       "      <th>age</th>\n",
       "      <th>sex</th>\n",
       "      <th>bmi</th>\n",
       "      <th>children</th>\n",
       "      <th>smoker</th>\n",
       "      <th>region</th>\n",
       "      <th>charges</th>\n",
       "      <th>insuranceclaim</th>\n",
       "    </tr>\n",
       "  </thead>\n",
       "  <tbody>\n",
       "    <tr>\n",
       "      <th>0</th>\n",
       "      <td>19</td>\n",
       "      <td>0</td>\n",
       "      <td>27.900</td>\n",
       "      <td>0</td>\n",
       "      <td>1</td>\n",
       "      <td>3</td>\n",
       "      <td>16884.92400</td>\n",
       "      <td>1</td>\n",
       "    </tr>\n",
       "    <tr>\n",
       "      <th>1</th>\n",
       "      <td>18</td>\n",
       "      <td>1</td>\n",
       "      <td>33.770</td>\n",
       "      <td>1</td>\n",
       "      <td>0</td>\n",
       "      <td>2</td>\n",
       "      <td>1725.55230</td>\n",
       "      <td>1</td>\n",
       "    </tr>\n",
       "    <tr>\n",
       "      <th>2</th>\n",
       "      <td>28</td>\n",
       "      <td>1</td>\n",
       "      <td>33.000</td>\n",
       "      <td>3</td>\n",
       "      <td>0</td>\n",
       "      <td>2</td>\n",
       "      <td>4449.46200</td>\n",
       "      <td>0</td>\n",
       "    </tr>\n",
       "    <tr>\n",
       "      <th>3</th>\n",
       "      <td>33</td>\n",
       "      <td>1</td>\n",
       "      <td>22.705</td>\n",
       "      <td>0</td>\n",
       "      <td>0</td>\n",
       "      <td>1</td>\n",
       "      <td>21984.47061</td>\n",
       "      <td>0</td>\n",
       "    </tr>\n",
       "    <tr>\n",
       "      <th>4</th>\n",
       "      <td>32</td>\n",
       "      <td>1</td>\n",
       "      <td>28.880</td>\n",
       "      <td>0</td>\n",
       "      <td>0</td>\n",
       "      <td>1</td>\n",
       "      <td>3866.85520</td>\n",
       "      <td>1</td>\n",
       "    </tr>\n",
       "  </tbody>\n",
       "</table>\n",
       "</div>"
      ],
      "text/plain": [
       "   age  sex     bmi  children  smoker  region      charges  insuranceclaim\n",
       "0   19    0  27.900         0       1       3  16884.92400               1\n",
       "1   18    1  33.770         1       0       2   1725.55230               1\n",
       "2   28    1  33.000         3       0       2   4449.46200               0\n",
       "3   33    1  22.705         0       0       1  21984.47061               0\n",
       "4   32    1  28.880         0       0       1   3866.85520               1"
      ]
     },
     "execution_count": 2,
     "metadata": {},
     "output_type": "execute_result"
    }
   ],
   "source": [
    "dataset.head()"
   ]
  },
  {
   "cell_type": "code",
   "execution_count": 8,
   "id": "0df32544",
   "metadata": {},
   "outputs": [
    {
     "data": {
      "text/plain": [
       "(1338, 8)"
      ]
     },
     "execution_count": 8,
     "metadata": {},
     "output_type": "execute_result"
    }
   ],
   "source": [
    "dataset.shape "
   ]
  },
  {
   "cell_type": "code",
   "execution_count": 6,
   "id": "2eba7b10",
   "metadata": {},
   "outputs": [
    {
     "name": "stdout",
     "output_type": "stream",
     "text": [
      "<class 'pandas.core.frame.DataFrame'>\n",
      "RangeIndex: 1338 entries, 0 to 1337\n",
      "Data columns (total 8 columns):\n",
      " #   Column          Non-Null Count  Dtype  \n",
      "---  ------          --------------  -----  \n",
      " 0   age             1338 non-null   int64  \n",
      " 1   sex             1338 non-null   int64  \n",
      " 2   bmi             1338 non-null   float64\n",
      " 3   children        1338 non-null   int64  \n",
      " 4   smoker          1338 non-null   int64  \n",
      " 5   region          1338 non-null   int64  \n",
      " 6   charges         1338 non-null   float64\n",
      " 7   insuranceclaim  1338 non-null   int64  \n",
      "dtypes: float64(2), int64(6)\n",
      "memory usage: 83.8 KB\n"
     ]
    }
   ],
   "source": [
    "dataset.info()"
   ]
  },
  {
   "cell_type": "code",
   "execution_count": 11,
   "id": "fc0843c0",
   "metadata": {},
   "outputs": [
    {
     "data": {
      "text/plain": [
       "age               0\n",
       "sex               0\n",
       "bmi               0\n",
       "children          0\n",
       "smoker            0\n",
       "region            0\n",
       "charges           0\n",
       "insuranceclaim    0\n",
       "dtype: int64"
      ]
     },
     "execution_count": 11,
     "metadata": {},
     "output_type": "execute_result"
    }
   ],
   "source": [
    "dataset.isnull().sum()"
   ]
  },
  {
   "cell_type": "code",
   "execution_count": 12,
   "id": "2b6d180c",
   "metadata": {},
   "outputs": [
    {
     "data": {
      "text/html": [
       "<div>\n",
       "<style scoped>\n",
       "    .dataframe tbody tr th:only-of-type {\n",
       "        vertical-align: middle;\n",
       "    }\n",
       "\n",
       "    .dataframe tbody tr th {\n",
       "        vertical-align: top;\n",
       "    }\n",
       "\n",
       "    .dataframe thead th {\n",
       "        text-align: right;\n",
       "    }\n",
       "</style>\n",
       "<table border=\"1\" class=\"dataframe\">\n",
       "  <thead>\n",
       "    <tr style=\"text-align: right;\">\n",
       "      <th></th>\n",
       "      <th>age</th>\n",
       "      <th>sex</th>\n",
       "      <th>bmi</th>\n",
       "      <th>children</th>\n",
       "      <th>smoker</th>\n",
       "      <th>region</th>\n",
       "      <th>charges</th>\n",
       "      <th>insuranceclaim</th>\n",
       "    </tr>\n",
       "  </thead>\n",
       "  <tbody>\n",
       "    <tr>\n",
       "      <th>age</th>\n",
       "      <td>1.000000</td>\n",
       "      <td>-0.020856</td>\n",
       "      <td>0.109272</td>\n",
       "      <td>0.042469</td>\n",
       "      <td>-0.025019</td>\n",
       "      <td>0.002127</td>\n",
       "      <td>0.299008</td>\n",
       "      <td>0.113723</td>\n",
       "    </tr>\n",
       "    <tr>\n",
       "      <th>sex</th>\n",
       "      <td>-0.020856</td>\n",
       "      <td>1.000000</td>\n",
       "      <td>0.046371</td>\n",
       "      <td>0.017163</td>\n",
       "      <td>0.076185</td>\n",
       "      <td>0.004588</td>\n",
       "      <td>0.057292</td>\n",
       "      <td>0.031565</td>\n",
       "    </tr>\n",
       "    <tr>\n",
       "      <th>bmi</th>\n",
       "      <td>0.109272</td>\n",
       "      <td>0.046371</td>\n",
       "      <td>1.000000</td>\n",
       "      <td>0.012759</td>\n",
       "      <td>0.003750</td>\n",
       "      <td>0.157566</td>\n",
       "      <td>0.198341</td>\n",
       "      <td>0.384198</td>\n",
       "    </tr>\n",
       "    <tr>\n",
       "      <th>children</th>\n",
       "      <td>0.042469</td>\n",
       "      <td>0.017163</td>\n",
       "      <td>0.012759</td>\n",
       "      <td>1.000000</td>\n",
       "      <td>0.007673</td>\n",
       "      <td>0.016569</td>\n",
       "      <td>0.067998</td>\n",
       "      <td>-0.409526</td>\n",
       "    </tr>\n",
       "    <tr>\n",
       "      <th>smoker</th>\n",
       "      <td>-0.025019</td>\n",
       "      <td>0.076185</td>\n",
       "      <td>0.003750</td>\n",
       "      <td>0.007673</td>\n",
       "      <td>1.000000</td>\n",
       "      <td>-0.002181</td>\n",
       "      <td>0.787251</td>\n",
       "      <td>0.333261</td>\n",
       "    </tr>\n",
       "    <tr>\n",
       "      <th>region</th>\n",
       "      <td>0.002127</td>\n",
       "      <td>0.004588</td>\n",
       "      <td>0.157566</td>\n",
       "      <td>0.016569</td>\n",
       "      <td>-0.002181</td>\n",
       "      <td>1.000000</td>\n",
       "      <td>-0.006208</td>\n",
       "      <td>0.020891</td>\n",
       "    </tr>\n",
       "    <tr>\n",
       "      <th>charges</th>\n",
       "      <td>0.299008</td>\n",
       "      <td>0.057292</td>\n",
       "      <td>0.198341</td>\n",
       "      <td>0.067998</td>\n",
       "      <td>0.787251</td>\n",
       "      <td>-0.006208</td>\n",
       "      <td>1.000000</td>\n",
       "      <td>0.309418</td>\n",
       "    </tr>\n",
       "    <tr>\n",
       "      <th>insuranceclaim</th>\n",
       "      <td>0.113723</td>\n",
       "      <td>0.031565</td>\n",
       "      <td>0.384198</td>\n",
       "      <td>-0.409526</td>\n",
       "      <td>0.333261</td>\n",
       "      <td>0.020891</td>\n",
       "      <td>0.309418</td>\n",
       "      <td>1.000000</td>\n",
       "    </tr>\n",
       "  </tbody>\n",
       "</table>\n",
       "</div>"
      ],
      "text/plain": [
       "                     age       sex       bmi  children    smoker    region  \\\n",
       "age             1.000000 -0.020856  0.109272  0.042469 -0.025019  0.002127   \n",
       "sex            -0.020856  1.000000  0.046371  0.017163  0.076185  0.004588   \n",
       "bmi             0.109272  0.046371  1.000000  0.012759  0.003750  0.157566   \n",
       "children        0.042469  0.017163  0.012759  1.000000  0.007673  0.016569   \n",
       "smoker         -0.025019  0.076185  0.003750  0.007673  1.000000 -0.002181   \n",
       "region          0.002127  0.004588  0.157566  0.016569 -0.002181  1.000000   \n",
       "charges         0.299008  0.057292  0.198341  0.067998  0.787251 -0.006208   \n",
       "insuranceclaim  0.113723  0.031565  0.384198 -0.409526  0.333261  0.020891   \n",
       "\n",
       "                 charges  insuranceclaim  \n",
       "age             0.299008        0.113723  \n",
       "sex             0.057292        0.031565  \n",
       "bmi             0.198341        0.384198  \n",
       "children        0.067998       -0.409526  \n",
       "smoker          0.787251        0.333261  \n",
       "region         -0.006208        0.020891  \n",
       "charges         1.000000        0.309418  \n",
       "insuranceclaim  0.309418        1.000000  "
      ]
     },
     "execution_count": 12,
     "metadata": {},
     "output_type": "execute_result"
    }
   ],
   "source": [
    "dataset.corr()"
   ]
  },
  {
   "cell_type": "code",
   "execution_count": 18,
   "id": "b0ca39f4",
   "metadata": {},
   "outputs": [
    {
     "data": {
      "text/plain": [
       "<AxesSubplot:>"
      ]
     },
     "execution_count": 18,
     "metadata": {},
     "output_type": "execute_result"
    },
    {
     "data": {
      "image/png": "[encoded data removed]",
      "text/plain": [
       "<Figure size 432x288 with 2 Axes>"
      ]
     },
     "metadata": {
      "needs_background": "light"
     },
     "output_type": "display_data"
    }
   ],
   "source": [
    "sns.heatmap(data = dataset.corr(), annot = True)"
   ]
  },
  {
   "cell_type": "markdown",
   "id": "250e86d9",
   "metadata": {},
   "source": [
    "## Check Distribution & Outlier"
   ]
  },
  {
   "cell_type": "code",
   "execution_count": 34,
   "id": "843ab09d",
   "metadata": {},
   "outputs": [
    {
     "data": {
      "text/plain": [
       "[<matplotlib.lines.Line2D at 0x7fd1594cea90>]"
      ]
     },
     "execution_count": 34,
     "metadata": {},
     "output_type": "execute_result"
    },
    {
     "data": {
      "image/png": "[encoded data removed]",
      "text/plain": [
       "<Figure size 720x432 with 1 Axes>"
      ]
     },
     "metadata": {
      "needs_background": "light"
     },
     "output_type": "display_data"
    }
   ],
   "source": [
    "plt.hist(dataset['age'], bins = 20, rwidth = 0.8, density = True)\n",
    "plt.xlabel('age')\n",
    "plt.ylabel('count')\n",
    "\n",
    "rng = np.arange(dataset[\"age\"].min(), dataset[\"age\"].max(), 0.1)\n",
    "plt.plot(rng, norm.pdf(rng,dataset[\"age\"].mean(),dataset[\"age\"].std()))"
   ]
  },
  {
   "cell_type": "code",
   "execution_count": 35,
   "id": "c8885f4c",
   "metadata": {},
   "outputs": [
    {
     "data": {
      "text/plain": [
       "[<matplotlib.lines.Line2D at 0x7fd139cfb8d0>]"
      ]
     },
     "execution_count": 35,
     "metadata": {},
     "output_type": "execute_result"
    },
    {
     "data": {
      "image/png": "[encoded data removed]",
      "text/plain": [
       "<Figure size 720x432 with 1 Axes>"
      ]
     },
     "metadata": {
      "needs_background": "light"
     },
     "output_type": "display_data"
    }
   ],
   "source": [
    "plt.hist(dataset['bmi'], bins = 20, rwidth = 0.8, density = True)\n",
    "plt.xlabel('bmi')\n",
    "plt.ylabel('count')\n",
    "\n",
    "rng = np.arange(dataset[\"bmi\"].min(), dataset[\"bmi\"].max(), 0.1)\n",
    "plt.plot(rng, norm.pdf(rng,dataset[\"bmi\"].mean(),dataset[\"bmi\"].std()))"
   ]
  },
  {
   "cell_type": "code",
   "execution_count": 36,
   "id": "a665b825",
   "metadata": {},
   "outputs": [
    {
     "data": {
      "text/plain": [
       "[<matplotlib.lines.Line2D at 0x7fd1088f5110>]"
      ]
     },
     "execution_count": 36,
     "metadata": {},
     "output_type": "execute_result"
    },
    {
     "data": {
      "image/png": "[encoded data removed]",
      "text/plain": [
       "<Figure size 720x432 with 1 Axes>"
      ]
     },
     "metadata": {
      "needs_background": "light"
     },
     "output_type": "display_data"
    }
   ],
   "source": [
    "plt.hist(dataset['charges'], bins = 20, rwidth = 0.8, density = True)\n",
    "plt.xlabel('charges')\n",
    "plt.ylabel('count')\n",
    "\n",
    "rng = np.arange(dataset[\"charges\"].min(), dataset[\"charges\"].max(), 0.1)\n",
    "plt.plot(rng, norm.pdf(rng,dataset[\"charges\"].mean(),dataset[\"charges\"].std()))\n",
    "\n"
   ]
  },
  {
   "cell_type": "code",
   "execution_count": 38,
   "id": "cb5c4913",
   "metadata": {},
   "outputs": [
    {
     "data": {
      "image/png": "[encoded data removed]",
      "text/plain": [
       "<Figure size 720x432 with 1 Axes>"
      ]
     },
     "metadata": {
      "needs_background": "light"
     },
     "output_type": "display_data"
    }
   ],
   "source": [
    "plt.title('Gender Distribution')\n",
    "sns.countplot(x= 'sex', data= dataset,saturation = .75)\n",
    "plt.show()"
   ]
  },
  {
   "cell_type": "code",
   "execution_count": 39,
   "id": "cad67a33",
   "metadata": {},
   "outputs": [
    {
     "data": {
      "image/png": "[encoded data removed]",
      "text/plain": [
       "<Figure size 720x432 with 1 Axes>"
      ]
     },
     "metadata": {
      "needs_background": "light"
     },
     "output_type": "display_data"
    }
   ],
   "source": [
    "plt.title('Children Distribution')\n",
    "sns.countplot(x= 'children', data= dataset,saturation = .75)\n",
    "plt.show()"
   ]
  },
  {
   "cell_type": "code",
   "execution_count": 41,
   "id": "94a44c60",
   "metadata": {},
   "outputs": [
    {
     "data": {
      "text/html": [
       "<div>\n",
       "<style scoped>\n",
       "    .dataframe tbody tr th:only-of-type {\n",
       "        vertical-align: middle;\n",
       "    }\n",
       "\n",
       "    .dataframe tbody tr th {\n",
       "        vertical-align: top;\n",
       "    }\n",
       "\n",
       "    .dataframe thead th {\n",
       "        text-align: right;\n",
       "    }\n",
       "</style>\n",
       "<table border=\"1\" class=\"dataframe\">\n",
       "  <thead>\n",
       "    <tr style=\"text-align: right;\">\n",
       "      <th></th>\n",
       "      <th>age</th>\n",
       "      <th>sex</th>\n",
       "      <th>bmi</th>\n",
       "      <th>children</th>\n",
       "      <th>smoker</th>\n",
       "      <th>region</th>\n",
       "      <th>charges</th>\n",
       "      <th>insuranceclaim</th>\n",
       "    </tr>\n",
       "  </thead>\n",
       "  <tbody>\n",
       "    <tr>\n",
       "      <th>0</th>\n",
       "      <td>19</td>\n",
       "      <td>0</td>\n",
       "      <td>27.900</td>\n",
       "      <td>0</td>\n",
       "      <td>1</td>\n",
       "      <td>3</td>\n",
       "      <td>16884.92400</td>\n",
       "      <td>1</td>\n",
       "    </tr>\n",
       "    <tr>\n",
       "      <th>1</th>\n",
       "      <td>18</td>\n",
       "      <td>1</td>\n",
       "      <td>33.770</td>\n",
       "      <td>1</td>\n",
       "      <td>0</td>\n",
       "      <td>2</td>\n",
       "      <td>1725.55230</td>\n",
       "      <td>1</td>\n",
       "    </tr>\n",
       "    <tr>\n",
       "      <th>2</th>\n",
       "      <td>28</td>\n",
       "      <td>1</td>\n",
       "      <td>33.000</td>\n",
       "      <td>3</td>\n",
       "      <td>0</td>\n",
       "      <td>2</td>\n",
       "      <td>4449.46200</td>\n",
       "      <td>0</td>\n",
       "    </tr>\n",
       "    <tr>\n",
       "      <th>3</th>\n",
       "      <td>33</td>\n",
       "      <td>1</td>\n",
       "      <td>22.705</td>\n",
       "      <td>0</td>\n",
       "      <td>0</td>\n",
       "      <td>1</td>\n",
       "      <td>21984.47061</td>\n",
       "      <td>0</td>\n",
       "    </tr>\n",
       "    <tr>\n",
       "      <th>4</th>\n",
       "      <td>32</td>\n",
       "      <td>1</td>\n",
       "      <td>28.880</td>\n",
       "      <td>0</td>\n",
       "      <td>0</td>\n",
       "      <td>1</td>\n",
       "      <td>3866.85520</td>\n",
       "      <td>1</td>\n",
       "    </tr>\n",
       "  </tbody>\n",
       "</table>\n",
       "</div>"
      ],
      "text/plain": [
       "   age  sex     bmi  children  smoker  region      charges  insuranceclaim\n",
       "0   19    0  27.900         0       1       3  16884.92400               1\n",
       "1   18    1  33.770         1       0       2   1725.55230               1\n",
       "2   28    1  33.000         3       0       2   4449.46200               0\n",
       "3   33    1  22.705         0       0       1  21984.47061               0\n",
       "4   32    1  28.880         0       0       1   3866.85520               1"
      ]
     },
     "execution_count": 41,
     "metadata": {},
     "output_type": "execute_result"
    }
   ],
   "source": [
    "dataset.head()"
   ]
  },
  {
   "cell_type": "code",
   "execution_count": 42,
   "id": "b4ab82c1",
   "metadata": {},
   "outputs": [
    {
     "data": {
      "image/png": "[encoded data removed]",
      "text/plain": [
       "<Figure size 720x432 with 1 Axes>"
      ]
     },
     "metadata": {
      "needs_background": "light"
     },
     "output_type": "display_data"
    }
   ],
   "source": [
    "plt.title('Claim Distribution')\n",
    "sns.countplot(x= 'insuranceclaim', data= dataset,saturation = .75)\n",
    "plt.show()"
   ]
  },
  {
   "cell_type": "code",
   "execution_count": 43,
   "id": "16891fd3",
   "metadata": {},
   "outputs": [
    {
     "data": {
      "image/png": "[encoded data removed]",
      "text/plain": [
       "<Figure size 720x432 with 1 Axes>"
      ]
     },
     "metadata": {
      "needs_background": "light"
     },
     "output_type": "display_data"
    }
   ],
   "source": [
    "plt.title('Region Distribution')\n",
    "sns.countplot(x= 'region', data= dataset,saturation = .75)\n",
    "plt.show()"
   ]
  },
  {
   "cell_type": "code",
   "execution_count": 44,
   "id": "f32f3656",
   "metadata": {},
   "outputs": [
    {
     "data": {
      "image/png": "[encoded data removed]",
      "text/plain": [
       "<Figure size 720x432 with 1 Axes>"
      ]
     },
     "metadata": {
      "needs_background": "light"
     },
     "output_type": "display_data"
    }
   ],
   "source": [
    "plt.title('Smoker Distribution')\n",
    "sns.countplot(x= 'smoker', data= dataset,saturation = .75)\n",
    "plt.show()"
   ]
  },
  {
   "cell_type": "markdown",
   "id": "b22fbb97",
   "metadata": {},
   "source": [
    "## Check data balance"
   ]
  },
  {
   "cell_type": "code",
   "execution_count": 46,
   "id": "00cb941a",
   "metadata": {},
   "outputs": [
    {
     "data": {
      "text/plain": [
       "1    783\n",
       "0    555\n",
       "Name: insuranceclaim, dtype: int64"
      ]
     },
     "execution_count": 46,
     "metadata": {},
     "output_type": "execute_result"
    }
   ],
   "source": [
    "dataset['insuranceclaim'].value_counts()"
   ]
  },
  {
   "cell_type": "code",
   "execution_count": 60,
   "id": "5e8da0b8",
   "metadata": {},
   "outputs": [
    {
     "name": "stdout",
     "output_type": "stream",
     "text": [
      "Counter({1: 783, 0: 555})\n"
     ]
    }
   ],
   "source": [
    "print(Counter(y))"
   ]
  },
  {
   "cell_type": "code",
   "execution_count": 48,
   "id": "4866006e",
   "metadata": {},
   "outputs": [],
   "source": [
    "x = dataset.iloc[:,:-1].values\n",
    "y = dataset.iloc[:,-1].values\n"
   ]
  },
  {
   "cell_type": "code",
   "execution_count": 57,
   "id": "b0fd1c30",
   "metadata": {},
   "outputs": [],
   "source": [
    "from imblearn.over_sampling import SMOTE\n",
    "s1 = SMOTE()\n",
    "x_data , y_data = s1.fit_resample(x,y)"
   ]
  },
  {
   "cell_type": "code",
   "execution_count": 59,
   "id": "dbd0e1dc",
   "metadata": {},
   "outputs": [
    {
     "name": "stdout",
     "output_type": "stream",
     "text": [
      "Counter({1: 783, 0: 783})\n"
     ]
    }
   ],
   "source": [
    "print(Counter(y_data))"
   ]
  },
  {
   "cell_type": "markdown",
   "id": "5f9ce473",
   "metadata": {},
   "source": [
    "## Standardization "
   ]
  },
  {
   "cell_type": "code",
   "execution_count": 65,
   "id": "32f71ac8",
   "metadata": {},
   "outputs": [],
   "source": [
    "sd = StandardScaler()\n",
    "x_data = sd.fit_transform(x_data)"
   ]
  },
  {
   "cell_type": "code",
   "execution_count": 66,
   "id": "307061bd",
   "metadata": {},
   "outputs": [
    {
     "data": {
      "text/plain": [
       "array([[-1.42825517, -1.01100531, -0.39063036, ...,  2.111703  ,\n",
       "         1.38511339,  0.36626024],\n",
       "       [-1.5006055 ,  1.02823038,  0.58782002, ..., -0.48021753,\n",
       "         0.45764324, -0.94291433],\n",
       "       [-0.77710213,  1.02823038,  0.45947133, ..., -0.48021753,\n",
       "         0.45764324, -0.70767547],\n",
       "       ...,\n",
       "       [ 0.82125507,  1.02823038,  0.30751365, ..., -0.48021753,\n",
       "        -0.6697277 , -0.16829849],\n",
       "       [-0.65278299,  1.02823038,  0.6966684 , ...,  0.88875872,\n",
       "         0.07229037,  0.61173787],\n",
       "       [ 0.32899204, -1.01100531, -0.59998212, ...,  2.05837781,\n",
       "         1.36603197,  0.84882581]])"
      ]
     },
     "execution_count": 66,
     "metadata": {},
     "output_type": "execute_result"
    }
   ],
   "source": [
    "x_data"
   ]
  },
  {
   "cell_type": "code",
   "execution_count": null,
   "id": "ddd81ddb",
   "metadata": {},
   "outputs": [],
   "source": [
    "# standardize dataset so that the mean of dataset = 0 and variance of dataset = 1"
   ]
  },
  {
   "cell_type": "code",
   "execution_count": 70,
   "id": "711dbe92",
   "metadata": {},
   "outputs": [
    {
     "data": {
      "text/plain": [
       "0.0"
      ]
     },
     "execution_count": 70,
     "metadata": {},
     "output_type": "execute_result"
    }
   ],
   "source": [
    "round(x_data.mean(),1)"
   ]
  },
  {
   "cell_type": "code",
   "execution_count": 71,
   "id": "e4d34dfd",
   "metadata": {},
   "outputs": [
    {
     "data": {
      "text/plain": [
       "1.0"
      ]
     },
     "execution_count": 71,
     "metadata": {},
     "output_type": "execute_result"
    }
   ],
   "source": [
    "round(x_data.var(),1)"
   ]
  },
  {
   "cell_type": "markdown",
   "id": "0d9747be",
   "metadata": {},
   "source": [
    "## Split Dataset"
   ]
  },
  {
   "cell_type": "code",
   "execution_count": 82,
   "id": "a20804d3",
   "metadata": {},
   "outputs": [],
   "source": [
    "x_train, x_test, y_train, y_test = train_test_split(x_data, y_data)\n",
    "\n",
    "# categorical features are transfered as numerical in dataset: label encoding/one hot encoding"
   ]
  },
  {
   "cell_type": "markdown",
   "id": "c7226805",
   "metadata": {},
   "source": [
    "# Logistic Regression"
   ]
  },
  {
   "cell_type": "code",
   "execution_count": 93,
   "id": "0b5b4f93",
   "metadata": {},
   "outputs": [
    {
     "data": {
      "text/plain": [
       "(89.18228279386712, 89.03061224489795)"
      ]
     },
     "execution_count": 93,
     "metadata": {},
     "output_type": "execute_result"
    }
   ],
   "source": [
    "from sklearn.linear_model import LogisticRegression\n",
    "from sklearn.metrics import accuracy_score\n",
    "\n",
    "lr = LogisticRegression()\n",
    "lr.fit(x_train, y_train)\n",
    "\n",
    "y_log_train_pred = lr.predict(x_train)\n",
    "\n",
    "logistic_train_ac = accuracy_score(y_log_train_pred, y_train)*100\n",
    "\n",
    "\n",
    "y_log_test_pred = lr.predict(x_test)\n",
    "\n",
    "logistic_test_ac = accuracy_score(y_log_test_pred, y_test)*100\n",
    "logistic_train_ac, logistic_test_ac\n"
   ]
  },
  {
   "cell_type": "markdown",
   "id": "fdf5fb7c",
   "metadata": {},
   "source": [
    "# Naives Bayes"
   ]
  },
  {
   "cell_type": "code",
   "execution_count": 101,
   "id": "687117d0",
   "metadata": {},
   "outputs": [
    {
     "data": {
      "text/plain": [
       "(73.1686541737649, 72.95918367346938)"
      ]
     },
     "execution_count": 101,
     "metadata": {},
     "output_type": "execute_result"
    }
   ],
   "source": [
    "from sklearn.naive_bayes import GaussianNB\n",
    "nb=GaussianNB()\n",
    "nb.fit(x_train,y_train)\n",
    "\n",
    "y_nb_train_pred = nb.predict(x_train)\n",
    "nb_train_ac =accuracy_score(y_nb_train_pred,y_train)*100\n",
    "\n",
    "y_nb_test_pred = nb.predict(x_test)\n",
    "nb_test_ac =accuracy_score(y_nb_test_pred,y_test)*100\n",
    "\n",
    "nb_train_ac,nb_test_ac"
   ]
  },
  {
   "cell_type": "markdown",
   "id": "fe7af275",
   "metadata": {},
   "source": [
    "# Decision Tree Classifier"
   ]
  },
  {
   "cell_type": "code",
   "execution_count": 97,
   "id": "e2b02375",
   "metadata": {},
   "outputs": [
    {
     "data": {
      "text/plain": [
       "(0.9378194207836457, 0.9183673469387755)"
      ]
     },
     "execution_count": 97,
     "metadata": {},
     "output_type": "execute_result"
    }
   ],
   "source": [
    "from sklearn.tree import DecisionTreeClassifier\n",
    "dt = DecisionTreeClassifier(criterion = 'gini', max_depth = 5) # use gini index \n",
    "dt.fit(x_train, y_train)\n",
    "\n",
    "y_dt_train_pred = dt.predict(x_train)\n",
    "dt_train_ac = accuracy_score(y_dt_train_pred, y_train)\n",
    "\n",
    "y_dt_test_pred = dt.predict(x_test)\n",
    "dt_test_ac = accuracy_score(y_dt_test_pred, y_test)\n",
    "\n",
    "dt_train_ac, dt_test_ac"
   ]
  },
  {
   "cell_type": "markdown",
   "id": "2fd1ee83",
   "metadata": {},
   "source": [
    "# Cross Validation Score"
   ]
  },
  {
   "cell_type": "code",
   "execution_count": 99,
   "id": "f4d1396a",
   "metadata": {},
   "outputs": [
    {
     "data": {
      "text/plain": [
       "array([0.89361702, 0.87234043, 0.89361702, 0.88085106, 0.89316239])"
      ]
     },
     "execution_count": 99,
     "metadata": {},
     "output_type": "execute_result"
    }
   ],
   "source": [
    "from sklearn.model_selection import cross_val_score\n",
    "cross_val_score(lr,x_train,y_train,cv=5)"
   ]
  },
  {
   "cell_type": "code",
   "execution_count": 102,
   "id": "e31ef36a",
   "metadata": {},
   "outputs": [
    {
     "data": {
      "text/plain": [
       "array([0.74468085, 0.70638298, 0.70638298, 0.77021277, 0.72222222])"
      ]
     },
     "execution_count": 102,
     "metadata": {},
     "output_type": "execute_result"
    }
   ],
   "source": [
    "cross_val_score(nb,x_train,y_train,cv=5)"
   ]
  },
  {
   "cell_type": "code",
   "execution_count": 103,
   "id": "0bab416c",
   "metadata": {},
   "outputs": [
    {
     "data": {
      "text/plain": [
       "array([0.92765957, 0.89787234, 0.93191489, 0.94042553, 0.88888889])"
      ]
     },
     "execution_count": 103,
     "metadata": {},
     "output_type": "execute_result"
    }
   ],
   "source": [
    "cross_val_score(dt,x_train,y_train,cv=5)"
   ]
  },
  {
   "cell_type": "code",
   "execution_count": null,
   "id": "7a6f9189",
   "metadata": {},
   "outputs": [],
   "source": [
    "search youtube for similar ecommerce project and learn ab test part"
   ]
  },
  {
   "cell_type": "code",
   "execution_count": null,
   "id": "ab616871",
   "metadata": {},
   "outputs": [],
   "source": []
  },
  {
   "cell_type": "markdown",
   "id": "bd0cbe3c",
   "metadata": {},
   "source": [
    "# K Fold Cross Validation Score"
   ]
  },
  {
   "cell_type": "code",
   "execution_count": 109,
   "id": "14bb6f0f",
   "metadata": {},
   "outputs": [
    {
     "name": "stdout",
     "output_type": "stream",
     "text": [
      "[0.85987261 0.88178914 0.87539936 0.89456869 0.89456869]\n",
      "Logistic Regression 5 folds cross validation score 88.12396980118434\n"
     ]
    }
   ],
   "source": [
    "from sklearn.model_selection import KFold\n",
    "kf=KFold(n_splits=5)\n",
    "kf.get_n_splits(x)\n",
    "\n",
    "scores=cross_val_score(lr,x_data,y_data,cv=kf)\n",
    "print(scores)\n",
    "print(\"Logistic Regression 5 folds cross validation score\", np.mean(scores)*100)"
   ]
  },
  {
   "cell_type": "code",
   "execution_count": 110,
   "id": "4be40e65",
   "metadata": {},
   "outputs": [
    {
     "name": "stdout",
     "output_type": "stream",
     "text": [
      "[0.66242038 0.66134185 0.71884984 0.7028754  0.83386581]\n",
      "Naive Bayes 5 folds cross validation score 71.58706579027697\n"
     ]
    }
   ],
   "source": [
    "scores=cross_val_score(nb,x_data,y_data,cv=kf)\n",
    "print(scores)\n",
    "print(\"Naive Bayes 5 folds cross validation score\", np.mean(scores)*100)"
   ]
  },
  {
   "cell_type": "code",
   "execution_count": 111,
   "id": "ff8478b2",
   "metadata": {},
   "outputs": [
    {
     "name": "stdout",
     "output_type": "stream",
     "text": [
      "[0.9044586  0.90734824 0.93610224 0.9201278  0.82747604]\n",
      "Decision Tree 5 folds cross validation score 89.91025823650313\n"
     ]
    }
   ],
   "source": [
    "scores=cross_val_score(dt,x_data,y_data,cv=kf)\n",
    "print(scores)\n",
    "print(\"Decision Tree 5 folds cross validation score\", np.mean(scores)*100)"
   ]
  },
  {
   "cell_type": "code",
   "execution_count": 114,
   "id": "9a6dd4b0",
   "metadata": {},
   "outputs": [
    {
     "name": "stdout",
     "output_type": "stream",
     "text": [
      "[0.88446215 0.88047809 0.9        0.852      0.924     ]\n",
      "88.8188047808765\n",
      "Y data Counter:  Counter({1: 190, 0: 124})\n",
      "[1 0 0 0 1 0 1 0 0 1 0 1 1 1 1 0 1 0 1 1 1 0 1 1 0 0 1 0 0 1 1 0 0 1 1 0 0\n",
      " 0 1 1 1 0 0 0 1 1 0 1 1 1 1 0 1 1 0 1 0 1 1 0 0 0 0 0 1 1 1 0 1 0 1 0 0 1\n",
      " 0 1 0 1 1 1 0 1 1 0 1 1 1 1 1 1 1 0 1 0 1 1 0 1 1 1 1 0 1 1 0 1 0 0 1 1 1\n",
      " 0 1 1 0 1 1 1 1 0 0 0 1 1 0 1 1 1 0 0 1 0 0 0 1 1 1 0 0 1 0 1 1 0 1 0 1 1\n",
      " 1 0 0 1 0 1 0 1 1 1 1 0 1 1 1 0 1 0 0 0 0 0 1 1 0 1 1 1 0 0 0 0 1 1 0 1 0\n",
      " 1 0 0 0 0 1 0 0 0 1 1 1 0 0 1 1 1 1 1 0 0 1 1 1 1 0 0 0 0 0 0 1 0 0 0 1 1\n",
      " 0 1 1 0 1 1 1 0 1 0 0 0 0 1 0 0 1 1 1 0 0 0 1 1 1 1 0 0 0 1 1 0 1 0 1 1 0\n",
      " 1 1 1 0 1 0 1 1 0 0 0 0 1 1 0 1 0 0 0 0 0 1 1 0 1 1 0 1 1 1 0 1 0 1 1 0 0\n",
      " 1 1 1 0 0 0 1 0 1 0 0 1 1 0 1 0 1 1]\n",
      "[0.84063745 0.85657371 0.90836653 0.84       0.904     ]\n",
      "86.99155378486057\n",
      "Y data Counter:  Counter({1: 191, 0: 122})\n",
      "[1 1 1 1 1 1 0 0 1 1 0 1 0 1 1 1 1 1 1 1 0 1 1 0 1 0 0 1 1 1 0 0 0 1 0 1 0\n",
      " 1 1 1 1 1 1 0 1 0 0 0 1 0 0 1 0 0 0 0 0 0 1 1 1 1 0 1 0 1 0 1 1 1 0 1 1 0\n",
      " 0 0 0 1 1 1 0 0 0 1 0 1 0 1 1 0 0 1 0 0 0 0 0 1 0 0 1 1 1 0 1 1 1 1 1 1 0\n",
      " 0 0 1 0 0 1 0 1 1 0 0 1 0 0 1 1 1 1 1 1 1 1 1 1 1 0 0 0 1 1 1 0 1 1 0 0 1\n",
      " 1 1 0 1 0 0 0 0 1 1 1 1 0 1 1 1 1 1 1 1 1 1 0 1 0 1 1 1 1 1 0 1 0 1 0 0 0\n",
      " 1 1 1 1 1 0 0 0 0 0 1 1 1 0 1 1 1 1 0 0 1 1 1 1 1 1 1 0 0 1 0 1 1 0 1 1 0\n",
      " 0 0 0 1 0 0 1 1 1 1 1 1 1 1 1 1 0 0 1 0 1 1 1 1 0 1 1 1 0 1 1 0 0 1 1 1 1\n",
      " 1 0 1 0 1 0 0 0 1 1 0 0 0 0 1 1 0 1 0 0 1 1 1 0 1 0 1 1 1 1 0 1 1 0 1 0 1\n",
      " 0 0 1 0 1 1 1 1 1 1 0 0 0 1 1 0 0]\n",
      "[0.84860558 0.86454183 0.92031873 0.852      0.9       ]\n",
      "87.70932270916335\n",
      "Y data Counter:  Counter({1: 182, 0: 131})\n",
      "[1 1 1 1 1 1 0 1 1 0 1 1 0 0 1 1 0 0 0 0 0 1 1 1 1 1 0 1 1 1 0 1 0 1 0 0 1\n",
      " 1 1 0 1 1 0 0 1 1 1 1 0 0 1 0 0 0 0 1 1 0 0 0 1 0 1 1 1 0 0 1 1 0 1 1 0 1\n",
      " 1 1 0 0 0 1 0 0 1 1 0 0 1 0 1 0 0 1 1 1 0 1 1 0 1 0 1 1 1 0 0 0 0 0 1 1 0\n",
      " 1 1 0 1 1 0 1 0 0 0 1 1 1 1 1 0 0 0 0 1 0 1 0 1 1 0 0 1 1 0 1 0 0 0 1 1 0\n",
      " 0 0 1 0 1 0 1 1 1 0 0 1 1 0 1 1 0 0 1 0 1 1 0 1 1 0 1 0 1 0 1 1 1 1 0 0 0\n",
      " 0 0 0 1 0 0 1 1 1 0 1 0 1 0 1 1 1 0 1 1 0 1 1 0 1 1 0 1 1 1 1 1 1 1 1 1 0\n",
      " 1 1 0 1 0 0 1 1 1 0 1 1 0 0 0 1 0 1 1 1 0 1 0 0 0 0 1 0 0 0 0 0 0 0 1 0 1\n",
      " 1 1 1 1 1 0 1 1 1 1 0 0 1 0 0 1 0 1 1 0 0 1 0 1 0 1 0 0 0 1 1 1 1 1 1 1 0\n",
      " 1 0 0 0 0 1 1 1 1 0 1 0 1 0 0 0 1]\n",
      "[0.86055777 0.88446215 0.89243028 0.88       0.904     ]\n",
      "88.42900398406374\n",
      "Y data Counter:  Counter({1: 173, 0: 140})\n",
      "[0 1 1 0 1 1 0 1 1 0 0 1 0 1 1 1 1 0 1 1 1 0 1 0 1 0 1 0 0 0 0 0 0 1 1 1 1\n",
      " 0 0 1 0 0 0 0 0 0 0 0 1 1 0 0 0 0 0 0 0 1 0 1 1 1 0 1 0 0 0 1 0 0 0 0 0 1\n",
      " 1 1 0 0 0 0 1 1 1 0 1 1 1 0 1 0 1 1 1 1 1 0 1 1 1 0 1 0 1 0 1 1 1 1 0 1 1\n",
      " 1 1 1 0 1 1 1 1 1 1 0 1 0 0 0 1 1 0 1 1 1 1 0 0 0 1 0 1 0 0 0 0 0 0 0 1 1\n",
      " 1 0 1 1 0 1 0 0 1 1 1 1 0 0 1 1 1 1 1 0 0 0 1 1 0 0 0 1 0 1 1 0 1 1 1 1 1\n",
      " 1 1 0 1 0 0 1 1 0 1 0 0 0 1 1 1 0 1 0 0 0 1 1 0 1 1 1 1 1 0 0 1 0 1 1 1 1\n",
      " 1 1 0 1 1 0 0 1 1 1 1 0 0 0 1 0 1 1 1 1 1 0 1 0 1 1 1 1 0 0 1 1 0 0 1 1 0\n",
      " 0 0 1 1 1 0 0 0 1 1 1 0 0 0 0 0 1 0 0 1 0 0 0 1 1 0 1 0 0 1 1 1 1 0 0 0 1\n",
      " 0 1 0 1 1 1 0 1 1 0 0 0 1 1 1 0 1]\n",
      "[0.8685259  0.88844622 0.89243028 0.88       0.872     ]\n",
      "88.02804780876494\n",
      "Y data Counter:  Counter({0: 266, 1: 47})\n",
      "[0 1 1 0 0 0 0 0 1 0 0 0 1 1 1 1 0 1 1 0 0 1 0 1 1 1 0 1 1 1 0 1 1 0 0 1 1\n",
      " 0 1 0 0 1 0 0 0 0 0 1 1 0 1 1 1 1 0 1 0 0 1 1 1 0 0 0 1 0 0 0 1 1 1 0 1 1\n",
      " 0 0 1 0 1 1 0 1 1 0 1 0 0 0 0 0 0 0 0 0 0 0 1 0 0 0 0 0 0 0 0 0 0 0 0 0 0\n",
      " 0 0 0 0 0 0 0 0 0 0 0 0 0 0 0 0 0 0 0 0 0 0 0 0 0 0 0 0 0 0 0 0 0 0 0 0 0\n",
      " 0 0 0 0 0 0 0 1 0 0 0 0 0 0 0 0 0 0 0 0 0 0 0 0 0 0 0 0 0 0 0 0 0 0 0 0 0\n",
      " 0 0 0 0 0 0 0 1 0 0 0 0 1 1 0 0 0 0 0 0 0 0 0 0 0 0 0 0 0 0 0 0 0 0 0 0 0\n",
      " 0 0 0 0 0 0 0 0 0 0 0 0 0 0 1 0 0 0 0 0 0 0 1 0 0 0 0 0 0 0 0 0 0 0 0 0 0\n",
      " 0 1 0 0 0 0 0 0 1 0 0 0 0 0 0 0 0 0 0 0 0 0 0 0 0 0 0 0 0 0 0 0 0 0 0 0 0\n",
      " 0 0 0 0 0 0 0 0 0 0 0 0 0 0 0 0 1]\n"
     ]
    }
   ],
   "source": [
    "for train_data,test_data in kf.split(x_data):\n",
    "    x_train,x_test=x_data[train_data],x_data[test_data]\n",
    "    y_train,y_test=y_data[train_data],y_data[test_data]\n",
    "    \n",
    "    scores=cross_val_score(lr,x_train,y_train,cv=kf)\n",
    "    print(scores)\n",
    "    print(np.mean(scores)*100)\n",
    "    print(\"Y data Counter: \",Counter(y_test))\n",
    "    \n",
    "    \n",
    "    ypred = lr.predict(x_test)\n",
    "    \n",
    "    print(ypred)"
   ]
  },
  {
   "cell_type": "code",
   "execution_count": null,
   "id": "29f06450",
   "metadata": {},
   "outputs": [],
   "source": []
  }
 ],
 "metadata": {
  "kernelspec": {
   "display_name": "Python 3 (ipykernel)",
   "language": "python",
   "name": "python3"
  },
  "language_info": {
   "codemirror_mode": {
    "name": "ipython",
    "version": 3
   },
   "file_extension": ".py",
   "mimetype": "text/x-python",
   "name": "python",
   "nbconvert_exporter": "python",
   "pygments_lexer": "ipython3",
   "version": "3.7.4"
  }
 },
 "nbformat": 4,
 "nbformat_minor": 5
}
